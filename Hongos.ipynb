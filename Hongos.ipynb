{
 "cells": [
  {
   "cell_type": "markdown",
   "metadata": {},
   "source": [
    "# Carlos Michel Mourra Díaz \n",
    "# LCG Generación 17"
   ]
  },
  {
   "cell_type": "markdown",
   "metadata": {},
   "source": [
    "# ÍNDICE\n",
    "\n",
    "+ <a href=\"#Clasificación Automática\" style=\"color:#E0AC3D\">Clasificación Automática</a>\n",
    "+ <a href=\"#Algorítmos a utilizar\" style=\"color:#E0AC3D\">Algorítmos a utilizar</a>\n",
    "    + <a href=\"#K-Nearest Neighbor\" style=\"color:#E0AC3D\">K-Nearest Neighbor</a>\n",
    "    + <a href=\"#Support Vector Matrix\" style=\"color:#E0AC3D\">Support Vector Matrix</a>\n",
    "    + <a href=\"#Random Forest Classifier\" style=\"color:#E0AC3D\">Random Forest Classifier</a>\n",
    "    + <a href=\"#Stochastic Gradient Descent\" style=\"color:#E0AC3D\">Stochastic Gradient Descent</a>\n",
    "    + <a href=\"#Decision Trees\" style=\"color:#E0AC3D\">Decision Trees</a>\n",
    "+ <a href=\"#Label Encoding\" style=\"color:#E0AC3D\">Label Encoding</a>\n",
    "    + <a href=\"#Recolección de Datos\" style=\"color:#E0AC3D\">Recolección de Datos</a>\n",
    "    + <a href=\"#K-Nearest Neighbor2\" style=\"color:#E0AC3D\">K-Nearest Neighbor</a>\n",
    "    + <a href=\"#Support Vector Matrix2\" style=\"color:#E0AC3D\">Support Vector Matrix</a>\n",
    "    + <a href=\"#Random Forest Classifier2\" style=\"color:#E0AC3D\">Random Forest Classifier</a>\n",
    "    + <a href=\"#Stochastic Gradient Descent2\" style=\"color:#E0AC3D\">Stochastic Gradient Descent</a>\n",
    "    + <a href=\"#Decision Trees2\" style=\"color:#E0AC3D\">Decision Trees</a>\n",
    "+ <a href=\"#One Hot Encoding\" style=\"color:#E0AC3D\">One Hot Encoding</a>\n",
    "    + <a href=\"#Recolección de datos2\" style=\"color:#E0AC3D\">Recolección de datos</a>\n",
    "    + <a href=\"#K-Nearest Neighbor3\" style=\"color:#E0AC3D\">K-Nearest Neighbor</a>\n",
    "    + <a href=\"#Support Vector Matrix3\" style=\"color:#E0AC3D\">Support Vector Matrix</a>\n",
    "    + <a href=\"#Random Forest Classifier3\" style=\"color:#E0AC3D\">Random Forest Classifier</a>\n",
    "    + <a href=\"#Stochastic Gradient Descent3\" style=\"color:#E0AC3D\">Stochastic Gradient Descent</a>\n",
    "    + <a href=\"#Decision Trees3\" style=\"color:#E0AC3D\">Decision Trees</a>\n",
    "    + <a href=\"#Conclusiones\" style=\"color:#E0AC3D\">Conclusiones</a>\n",
    "+ <a href=\"#Información Adicional del archivo de Hongos\" style=\"color:#E0AC3D\">Información Adicional del archivo de Hongos</a>\n",
    "    + <a href=\"#Comestibles y Venenosos\" style=\"color:#E0AC3D\">Comestibles y Venenosos</a>\n",
    "    + <a href=\"#Color de los hongos\" style=\"color:#E0AC3D\">Color de los hongos</a>\n",
    "    + <a href=\"#Olor de los hongos\" style=\"color:#E0AC3D\">Olor de los hongos</a>\n",
    "    + <a href=\"#Tipo de superficie\" style=\"color:#E0AC3D\">Tipo de superficie</a>\n",
    "    + <a href=\"#Mas Información adicional\" style=\"color:#E0AC3D\">Mas Información adicional</a>\n",
    "\n"
   ]
  },
  {
   "cell_type": "markdown",
   "metadata": {},
   "source": [
    "# Clasificación Automática\n",
    "\n",
    "<a id='Clasificación Automática'></a>"
   ]
  },
  {
   "cell_type": "markdown",
   "metadata": {},
   "source": [
    "Es una area perteneciente al aprendizaje supervisado que consiste en el desarrollo de algoritmos para la clasificación de elementos a prtir de sus características.\n",
    "\n",
    "En este caso sera necesario evaluar distintos modelos para determinar, cual es el que mejor predice cuales organismos corresponden a hongos venenosos y cometsibles de acuerdo a caracteristicas como el color, la forma,etc.\n",
    "\n",
    "En este archivo las caracteristicas se encuentran anotadas en un documento por medio de caracteres, razon por la cual no pueden ser interpretadas facilmente por las funciones de sklearn, de modo que sera necesario cambiar estos atributos a valores numericos. Para realizar esto hay dos métodos:\n",
    "\n",
    "- Label Encoding\n",
    "- One Hot Encode\n",
    "\n",
    "Cada uno con sus ventajas y desventajas.\n",
    "\n",
    "\n",
    "![Hongos](https://www.ecured.cu/images/3/33/Hongos1.jpeg)"
   ]
  },
  {
   "cell_type": "markdown",
   "metadata": {},
   "source": [
    "# Algorítmos a utilizar\n",
    "<a id='Algorítmos a utilizar'></a>"
   ]
  },
  {
   "cell_type": "markdown",
   "metadata": {},
   "source": [
    "## K-Nearest Neighbor\n",
    "\n",
    "<a id='K-Nearest Neighbor'></a>\n",
    "\n",
    "Es un método no paramétrico. El cual se encarga de clasificar un elemento de acuerdo al conjunto de los k vecinos más cercanos al objeto.\n",
    "\n",
    "<img src=\"https://miro.medium.com/proxy/0*Sk18h9op6uK9EpT8.\" width=\"400\" height=\"400\">\n"
   ]
  },
  {
   "cell_type": "markdown",
   "metadata": {},
   "source": [
    "## Support Vector Matrix\n",
    "\n",
    "<a id='Support Vector Matrix'></a>\n",
    "\n",
    "Este metodo busca maximizar la distancia de los elementos mas cercanos al hiperplano de corte entre las clases asignadas.\n",
    "\n",
    "<img src=\"https://www.iartificial.net/wp-content/uploads/2019/04/SVM-regularizacion.png\" width=\"400\" height=\"400\">\n"
   ]
  },
  {
   "cell_type": "markdown",
   "metadata": {},
   "source": [
    "## Random Forest Classifier\n",
    "\n",
    "<a id='Random Forest Classifier'></a>\n",
    "\n",
    "Es un metaestimador que se ajusta a una serie de clasificadores de árboles de decisión en varias submuestras del conjunto de datos y utiliza promedios para mejorar la precisión predictiva y controlar el sobreajuste.\n",
    "\n",
    "\n",
    "<img src=\"https://cdn.corporatefinanceinstitute.com/assets/random-forest.png\" width=\"400\" height=\"400\">"
   ]
  },
  {
   "cell_type": "markdown",
   "metadata": {},
   "source": [
    "\n",
    "## Stochastic Gradient Descent\n",
    "\n",
    "<a id='Stochastic Gradient Descent'></a>\n",
    "\n",
    "El descenso de gradiente es un algoritmo iterativo, que comienza desde un punto aleatorio en una función y viaja por su pendiente en pasos hasta que alcanza el punto más bajo de esa función.\n",
    "\n",
    "\n",
    "<img src=\"https://cdn-images-1.medium.com/max/1000/1*Wr3cdGudU95fOLbTi0oQrA.png\" width=\"400\" height=\"400\">\n"
   ]
  },
  {
   "cell_type": "markdown",
   "metadata": {},
   "source": [
    "\n",
    "## Decision Trees\n",
    "\n",
    "<a id='Decision Trees'></a>\n",
    "\n",
    "Un árbol de decisiones es una herramienta de apoyo a las decisiones que utiliza un modelo de decisiones en forma de árbol y sus posibles consecuencias, incluidos los resultados de eventos fortuitos, los costos de los recursos y la utilidad. Es una forma de mostrar un algoritmo que solo contiene declaraciones de control condicionales.\n",
    "\n",
    "<img src=\"https://cdn.analyticsvidhya.com/wp-content/uploads/2020/02/rfc_vs_dt1.png\" width=\"400\" height=\"400\">"
   ]
  },
  {
   "cell_type": "markdown",
   "metadata": {},
   "source": [
    "# Label Encoding\n",
    "\n",
    "<a id='Label Encoding'></a>"
   ]
  },
  {
   "cell_type": "markdown",
   "metadata": {},
   "source": [
    "Este enfoque consiste en tomar los atributos que se busca convertir y asignarles una etiqueta númerica. La ventaja de este metodo es que puedes reemplazar de manera sencilla los valores y mantienes el tamaño de tu matriz original.\n",
    "\n",
    "El problema es que al añadir valores numéricos se le asigna un peso al atributo lo cual podria generar ruido en los datos.\n",
    "\n",
    "\n",
    "![Label Encoding](https://miro.medium.com/max/289/1*VinegxkUYMzik9GpucWCFA.png)"
   ]
  },
  {
   "cell_type": "markdown",
   "metadata": {},
   "source": [
    "## Recolección de Datos\n",
    "\n",
    "<a id='Recolección de Datos'></a>"
   ]
  },
  {
   "cell_type": "code",
   "execution_count": 128,
   "metadata": {},
   "outputs": [
    {
     "name": "stdout",
     "output_type": "stream",
     "text": [
      "Caracteristicas\n",
      "[[120, 115, 110, 116, 112, 102, 99, 110, 107, 101, 101, 115, 115, 119, 119, 112, 119, 111, 112, 107, 115, 117], [120, 115, 121, 116, 97, 102, 99, 98, 107, 101, 99, 115, 115, 119, 119, 112, 119, 111, 112, 110, 110, 103], [98, 115, 119, 116, 108, 102, 99, 98, 110, 101, 99, 115, 115, 119, 119, 112, 119, 111, 112, 110, 110, 109], [120, 121, 119, 116, 112, 102, 99, 110, 110, 101, 101, 115, 115, 119, 119, 112, 119, 111, 112, 107, 115, 117], [120, 115, 103, 102, 110, 102, 119, 98, 107, 116, 101, 115, 115, 119, 119, 112, 119, 111, 101, 110, 97, 103]]\n",
      "Clases\n",
      "[1, 0, 0, 1, 0]\n"
     ]
    }
   ],
   "source": [
    "# Librerias necesarias para clasificación automatica\n",
    "from sklearn.model_selection import train_test_split\n",
    "from sklearn.neighbors import KNeighborsClassifier\n",
    "from sklearn.metrics import accuracy_score\n",
    "from sklearn.metrics import f1_score\n",
    "from sklearn.metrics import precision_score\n",
    "from sklearn.metrics import recall_score\n",
    "from sklearn.metrics import classification_report\n",
    "from sklearn.metrics import confusion_matrix\n",
    "from sklearn.svm import SVC\n",
    "from sklearn.metrics import plot_confusion_matrix\n",
    "from sklearn.manifold import TSNE\n",
    "import pandas as pd\n",
    "import seaborn as sns\n",
    "import matplotlib.pyplot as plt\n",
    "\n",
    "# Archivo a utilizar y diccionario que contendra los elementos\n",
    "file = open(\"../Downloads/agaricus-lepiota.data\",\"r\")\n",
    "Fungi = {\"Data\":[], \"Target\":[]}\n",
    "\n",
    "for line in file:\n",
    "    # capturar valores en lineas del archivo\n",
    "    values = [] \n",
    "    line = line.replace(\"\\n\",\"\")\n",
    "    line = line.split(\",\")\n",
    "    \n",
    "    # reemplazar caracteres por valores numericos en ASCII\n",
    "    for element in line[1:]:\n",
    "        score = ord(element)\n",
    "        values.append(score)\n",
    "        \n",
    "    # agregar lista de caracteristicas del elemento   \n",
    "    Fungi[\"Data\"].append(values)\n",
    "    \n",
    "    # colocar a que clase pertenencen\n",
    "    if line[0] == \"e\":\n",
    "        Fungi[\"Target\"].append(0)\n",
    "    if line[0] == \"p\":\n",
    "        Fungi[\"Target\"].append(1)        \n",
    "\n",
    "# Leemos conjunto de ejemplos\n",
    "X = Fungi[\"Data\"]\n",
    "\n",
    "# Leemos valores de clase para cada ejemplo\n",
    "y = Fungi[\"Target\"]\n",
    "\n",
    "# Separamos el dataset en dos: entrenamiento y evaluación\n",
    "X_train, X_test, y_train, y_test = train_test_split(X, y, test_size=0.30, random_state=0)\n",
    "\n",
    "print(\"Caracteristicas\")\n",
    "print(X[:5])\n",
    "print(\"Clases\")\n",
    "print(y[:5])\n",
    "\n",
    "\n",
    "file.close()"
   ]
  },
  {
   "cell_type": "markdown",
   "metadata": {},
   "source": [
    "## K-Nearest Neighbor\n",
    "\n",
    "<a id='K-Nearest Neighbor2'></a>"
   ]
  },
  {
   "cell_type": "code",
   "execution_count": 224,
   "metadata": {},
   "outputs": [
    {
     "data": {
      "text/plain": [
       "array([1, 0, 0, ..., 1, 1, 1])"
      ]
     },
     "execution_count": 224,
     "metadata": {},
     "output_type": "execute_result"
    }
   ],
   "source": [
    "# Clasificación K Nearest neighbors \n",
    "k = 5\n",
    "# Definición del clasificador\n",
    "classifier = KNeighborsClassifier(n_neighbors=k)\n",
    "# Entrenamiento del clasificador con lo datos de entrenamiento y valores de clase para cada ejemplo\n",
    "classifier.fit(X_train, y_train)\n",
    "# Predicción con el clasificador entrenado en los datos de evaluación \n",
    "y_predict = classifier.predict(X_test)\n",
    "y_predict\n",
    "\n",
    "# Clasificación K Nearest neighbors \n",
    "k2 = 31\n",
    "# Definición del clasificador\n",
    "classifier2 = KNeighborsClassifier(n_neighbors=k2)\n",
    "# Entrenamiento del clasificador con lo datos de entrenamiento y valores de clase para cada ejemplo\n",
    "classifier2.fit(X_train, y_train)\n",
    "# Predicción con el clasificador entrenado en los datos de evaluación \n",
    "y_predict2 = classifier2.predict(X_test)\n",
    "y_predict2"
   ]
  },
  {
   "cell_type": "code",
   "execution_count": 225,
   "metadata": {},
   "outputs": [
    {
     "name": "stdout",
     "output_type": "stream",
     "text": [
      "Accuracy: 1.0\n",
      "Precision: 1.0\n",
      "Recall: 1.0\n",
      "F-score: 1.0\n"
     ]
    }
   ],
   "source": [
    "# Imprimir las medidas que indiquen que tan bien predijo el modelo los datos\n",
    "print(\"Accuracy: {}\".format(accuracy_score(y_test, y_predict)))\n",
    "print(\"Precision: {}\".format(precision_score(y_test, y_predict, average=\"macro\")))\n",
    "print(\"Recall: {}\".format(recall_score(y_test, y_predict, average=\"macro\")))\n",
    "print(\"F-score: {}\".format(f1_score(y_test, y_predict, average=\"macro\")))"
   ]
  },
  {
   "cell_type": "code",
   "execution_count": 226,
   "metadata": {},
   "outputs": [
    {
     "name": "stdout",
     "output_type": "stream",
     "text": [
      "              precision    recall  f1-score   support\n",
      "\n",
      "      Edible       1.00      1.00      1.00      1272\n",
      "   Poisonous       1.00      1.00      1.00      1166\n",
      "\n",
      "    accuracy                           1.00      2438\n",
      "   macro avg       1.00      1.00      1.00      2438\n",
      "weighted avg       1.00      1.00      1.00      2438\n",
      "\n"
     ]
    }
   ],
   "source": [
    "# Resumen de las medidas para cada clasificacion\n",
    "target_names = [\"Edible\",\"Poisonous\"]\n",
    "print(classification_report(y_test, y_predict, target_names=target_names))"
   ]
  },
  {
   "cell_type": "code",
   "execution_count": 227,
   "metadata": {},
   "outputs": [
    {
     "name": "stdout",
     "output_type": "stream",
     "text": [
      "[[1272    0]\n",
      " [   0 1166]]\n"
     ]
    },
    {
     "data": {
      "text/plain": [
       "<sklearn.metrics._plot.confusion_matrix.ConfusionMatrixDisplay at 0x7f8e8eb739a0>"
      ]
     },
     "execution_count": 227,
     "metadata": {},
     "output_type": "execute_result"
    },
    {
     "data": {
      "image/png": "[encoded data removed]",
      "text/plain": [
       "<Figure size 432x288 with 2 Axes>"
      ]
     },
     "metadata": {
      "needs_background": "light"
     },
     "output_type": "display_data"
    }
   ],
   "source": [
    "# Matriz de confusion para comestibles y venenosos\n",
    "print(confusion_matrix(y_test, y_predict))\n",
    "knn = plot_confusion_matrix(classifier, X_test, y_test, cmap=plt.cm.Blues, \n",
    "                      display_labels=[\"Edible\",\"Poisonous\"])\n",
    "knn.ax_.set_title(\"K-Nearest Neighbor k = 5\")\n",
    "knn"
   ]
  },
  {
   "cell_type": "code",
   "execution_count": 228,
   "metadata": {},
   "outputs": [
    {
     "name": "stdout",
     "output_type": "stream",
     "text": [
      "[[1269    3]\n",
      " [  14 1152]]\n"
     ]
    },
    {
     "data": {
      "text/plain": [
       "<sklearn.metrics._plot.confusion_matrix.ConfusionMatrixDisplay at 0x7f8e905819d0>"
      ]
     },
     "execution_count": 228,
     "metadata": {},
     "output_type": "execute_result"
    },
    {
     "data": {
      "image/png": "[encoded data removed]",
      "text/plain": [
       "<Figure size 432x288 with 2 Axes>"
      ]
     },
     "metadata": {
      "needs_background": "light"
     },
     "output_type": "display_data"
    }
   ],
   "source": [
    "# Matriz de confusion para comestibles y venenosos\n",
    "print(confusion_matrix(y_test, y_predict2))\n",
    "knn2 = plot_confusion_matrix(classifier2, X_test, y_test, cmap=plt.cm.Blues, \n",
    "                      display_labels=[\"Edible\",\"Poisonous\"])\n",
    "knn2.ax_.set_title(\"K-Nearest Neighbor k = 41\")\n",
    "knn2"
   ]
  },
  {
   "cell_type": "markdown",
   "metadata": {},
   "source": [
    "Como podemos ver en el resultado el modelo con el metodo KNN con un valor de K = 5, fue capaz de predecir correctamente la clase de todos los elementos. Un caso contrario puede notarse cuando el valor de k es aumentado a 31 y el modelo comienza a presentar errores en la clasificación."
   ]
  },
  {
   "cell_type": "markdown",
   "metadata": {},
   "source": [
    "## Support Vector Matrix\n",
    "\n",
    "<a id='Support Vector Matrix2'></a>"
   ]
  },
  {
   "cell_type": "code",
   "execution_count": 134,
   "metadata": {},
   "outputs": [
    {
     "data": {
      "text/plain": [
       "array([1, 0, 0, ..., 1, 1, 1])"
      ]
     },
     "execution_count": 134,
     "metadata": {},
     "output_type": "execute_result"
    }
   ],
   "source": [
    "# Clasificación SVM\n",
    "# Definición del clasificador\n",
    "svm_classifier = SVC(kernel=\"linear\", probability=True)\n",
    "# Entrenamiento del clasificador con lo datos de entrenamiento y valores de clase para cada ejemplo\n",
    "svm_classifier.fit(X_train, y_train)\n",
    "# Predicción con el clasificador entrenado en los datos de evaluación \n",
    "y_predict = svm_classifier.predict(X_test)\n",
    "y_predict"
   ]
  },
  {
   "cell_type": "code",
   "execution_count": 135,
   "metadata": {},
   "outputs": [
    {
     "name": "stdout",
     "output_type": "stream",
     "text": [
      "Accuracy: 0.965135356849877\n",
      "Precision: 0.9650690301457995\n",
      "Recall: 0.9659448256146369\n",
      "F-score: 0.9651162888565876\n"
     ]
    }
   ],
   "source": [
    "# Imprimir las medidas que indiquen que tan bien predijo el modelo los datos\n",
    "print(\"Accuracy: {}\".format(accuracy_score(y_test, y_predict)))\n",
    "print(\"Precision: {}\".format(precision_score(y_test, y_predict, average=\"macro\")))\n",
    "print(\"Recall: {}\".format(recall_score(y_test, y_predict, average=\"macro\")))\n",
    "print(\"F-score: {}\".format(f1_score(y_test, y_predict, average=\"macro\")))"
   ]
  },
  {
   "cell_type": "code",
   "execution_count": 136,
   "metadata": {},
   "outputs": [
    {
     "name": "stdout",
     "output_type": "stream",
     "text": [
      "              precision    recall  f1-score   support\n",
      "\n",
      "      Edible       0.99      0.95      0.97      1272\n",
      "   Poisonous       0.94      0.98      0.96      1166\n",
      "\n",
      "    accuracy                           0.97      2438\n",
      "   macro avg       0.97      0.97      0.97      2438\n",
      "weighted avg       0.97      0.97      0.97      2438\n",
      "\n"
     ]
    }
   ],
   "source": [
    "# Resumen de las medidas para cada clasificacion\n",
    "target_names = [\"Edible\",\"Poisonous\"]\n",
    "print(classification_report(y_test, y_predict, target_names=target_names))"
   ]
  },
  {
   "cell_type": "code",
   "execution_count": 137,
   "metadata": {},
   "outputs": [
    {
     "name": "stdout",
     "output_type": "stream",
     "text": [
      "[[1205   67]\n",
      " [  18 1148]]\n"
     ]
    },
    {
     "data": {
      "text/plain": [
       "<sklearn.metrics._plot.confusion_matrix.ConfusionMatrixDisplay at 0x7f8ea5d56af0>"
      ]
     },
     "execution_count": 137,
     "metadata": {},
     "output_type": "execute_result"
    },
    {
     "data": {
      "image/png": "[encoded data removed]",
      "text/plain": [
       "<Figure size 432x288 with 2 Axes>"
      ]
     },
     "metadata": {
      "needs_background": "light"
     },
     "output_type": "display_data"
    }
   ],
   "source": [
    "# Matriz de confusion para comestibles y venenosos\n",
    "print(confusion_matrix(y_test, y_predict))\n",
    "svm = plot_confusion_matrix(svm_classifier, X_test, y_test, cmap=plt.cm.Blues, \n",
    "                      display_labels=[\"Edible\",\"Poisonous\"])\n",
    "svm.ax_.set_title(\"Support Vector Machine\")\n",
    "svm"
   ]
  },
  {
   "cell_type": "code",
   "execution_count": 138,
   "metadata": {},
   "outputs": [
    {
     "data": {
      "text/plain": [
       "<AxesSubplot:xlabel='tsne_1', ylabel='tsne_2'>"
      ]
     },
     "execution_count": 138,
     "metadata": {},
     "output_type": "execute_result"
    },
    {
     "data": {
      "image/png": "[encoded data removed]",
      "text/plain": [
       "<Figure size 432x288 with 1 Axes>"
      ]
     },
     "metadata": {
      "needs_background": "light"
     },
     "output_type": "display_data"
    }
   ],
   "source": [
    "# podemos ver como se encuentran distribuidos los elementos de nuestro set de datos\n",
    "X_test_embedded = TSNE(n_components=2).fit_transform(X_test)\n",
    "plt.figure()\n",
    "tsne_result_df = pd.DataFrame({'tsne_1': X_test_embedded[:,0], 'tsne_2': X_test_embedded[:,1], 'label': y_test})\n",
    "sns.scatterplot(x='tsne_1', y='tsne_2', hue='label', data=tsne_result_df)"
   ]
  },
  {
   "cell_type": "markdown",
   "metadata": {},
   "source": [
    "Podemos observar que el modelo svm utilizando datos etiquetados por ASCII presenta errores en la prediccion de aproximadamente el 6% de los elementos, lo cual tras observar el scatterplot podria pensarse que es debido al sobrelape que existe."
   ]
  },
  {
   "cell_type": "markdown",
   "metadata": {},
   "source": [
    "## Random Forest Classifier\n",
    "\n",
    "<a id='Random Forest Classifier2'></a>"
   ]
  },
  {
   "cell_type": "code",
   "execution_count": 139,
   "metadata": {},
   "outputs": [
    {
     "data": {
      "text/plain": [
       "array([1, 0, 0, ..., 1, 1, 1])"
      ]
     },
     "execution_count": 139,
     "metadata": {},
     "output_type": "execute_result"
    }
   ],
   "source": [
    "from sklearn.ensemble import RandomForestClassifier\n",
    "# prediccion por medio del modelo Random Forest Classifier\n",
    "clf = RandomForestClassifier(n_estimators=10)\n",
    "clf = clf.fit(X_train, y_train)\n",
    "y_predict = clf.predict(X_test)\n",
    "y_predict"
   ]
  },
  {
   "cell_type": "code",
   "execution_count": 140,
   "metadata": {},
   "outputs": [
    {
     "name": "stdout",
     "output_type": "stream",
     "text": [
      "Accuracy: 1.0\n",
      "Precision: 1.0\n",
      "Recall: 1.0\n",
      "F-score: 1.0\n"
     ]
    }
   ],
   "source": [
    "# Imprimir las medidas que indiquen que tan bien predijo el modelo los datos\n",
    "print(\"Accuracy: {}\".format(accuracy_score(y_test, y_predict)))\n",
    "print(\"Precision: {}\".format(precision_score(y_test, y_predict, average=\"macro\")))\n",
    "print(\"Recall: {}\".format(recall_score(y_test, y_predict, average=\"macro\")))\n",
    "print(\"F-score: {}\".format(f1_score(y_test, y_predict, average=\"macro\")))"
   ]
  },
  {
   "cell_type": "code",
   "execution_count": 141,
   "metadata": {},
   "outputs": [
    {
     "name": "stdout",
     "output_type": "stream",
     "text": [
      "              precision    recall  f1-score   support\n",
      "\n",
      "      Edible       1.00      1.00      1.00      1272\n",
      "   Poisonous       1.00      1.00      1.00      1166\n",
      "\n",
      "    accuracy                           1.00      2438\n",
      "   macro avg       1.00      1.00      1.00      2438\n",
      "weighted avg       1.00      1.00      1.00      2438\n",
      "\n"
     ]
    }
   ],
   "source": [
    "# Resumen de las medidas para cada clasificacion\n",
    "target_names = [\"Edible\",\"Poisonous\"]\n",
    "print(classification_report(y_test, y_predict, target_names=target_names))"
   ]
  },
  {
   "cell_type": "code",
   "execution_count": 142,
   "metadata": {},
   "outputs": [
    {
     "name": "stdout",
     "output_type": "stream",
     "text": [
      "[[1272    0]\n",
      " [   0 1166]]\n"
     ]
    },
    {
     "data": {
      "text/plain": [
       "<sklearn.metrics._plot.confusion_matrix.ConfusionMatrixDisplay at 0x7f8ea9207f70>"
      ]
     },
     "execution_count": 142,
     "metadata": {},
     "output_type": "execute_result"
    },
    {
     "data": {
      "image/png": "[encoded data removed]",
      "text/plain": [
       "<Figure size 432x288 with 2 Axes>"
      ]
     },
     "metadata": {
      "needs_background": "light"
     },
     "output_type": "display_data"
    }
   ],
   "source": [
    "# Matriz de confusion para comestibles y venenosos\n",
    "print(confusion_matrix(y_test, y_predict))\n",
    "rfc = plot_confusion_matrix(clf, X_test, y_test, cmap=plt.cm.Blues, \n",
    "                      display_labels=[\"Edible\",\"Poisonous\"]) \n",
    "rfc.ax_.set_title(\"Random Forest Classifier\")\n",
    "rfc"
   ]
  },
  {
   "cell_type": "markdown",
   "metadata": {},
   "source": [
    "Podemos ver que el modelo de random forest con 10 arboles fue efectivo y pudo predecir correctamente la clase de todos los elementos."
   ]
  },
  {
   "cell_type": "markdown",
   "metadata": {},
   "source": [
    "## Stochastic Gradient Descent\n",
    "\n",
    "<a id='Stochastic Gradient Descent2'></a>"
   ]
  },
  {
   "cell_type": "code",
   "execution_count": 143,
   "metadata": {},
   "outputs": [
    {
     "name": "stderr",
     "output_type": "stream",
     "text": [
      "/Users/carlosmichelmourradiaz/opt/anaconda3/lib/python3.8/site-packages/sklearn/linear_model/_stochastic_gradient.py:570: ConvergenceWarning: Maximum number of iteration reached before convergence. Consider increasing max_iter to improve the fit.\n",
      "  warnings.warn(\"Maximum number of iteration reached before \"\n"
     ]
    },
    {
     "data": {
      "text/plain": [
       "array([0, 0, 0, ..., 1, 1, 1])"
      ]
     },
     "execution_count": 143,
     "metadata": {},
     "output_type": "execute_result"
    }
   ],
   "source": [
    "from sklearn.linear_model import SGDClassifier\n",
    "# prediccion por medio del modelo Stochastic Gradient Descent\n",
    "clf2 = SGDClassifier(loss=\"hinge\", penalty=\"l2\", max_iter=5)\n",
    "clf2 = clf2.fit(X_train, y_train)\n",
    "y_predict = clf2.predict(X_test)\n",
    "y_predict"
   ]
  },
  {
   "cell_type": "code",
   "execution_count": 144,
   "metadata": {},
   "outputs": [
    {
     "name": "stdout",
     "output_type": "stream",
     "text": [
      "Accuracy: 0.8666940114848236\n",
      "Precision: 0.8843490745850323\n",
      "Recall: 0.8620640365923384\n",
      "F-score: 0.8638724278400169\n"
     ]
    }
   ],
   "source": [
    "# Imprimir las medidas que indiquen que tan bien predijo el modelo los datos\n",
    "print(\"Accuracy: {}\".format(accuracy_score(y_test, y_predict)))\n",
    "print(\"Precision: {}\".format(precision_score(y_test, y_predict, average=\"macro\")))\n",
    "print(\"Recall: {}\".format(recall_score(y_test, y_predict, average=\"macro\")))\n",
    "print(\"F-score: {}\".format(f1_score(y_test, y_predict, average=\"macro\")))"
   ]
  },
  {
   "cell_type": "code",
   "execution_count": 145,
   "metadata": {},
   "outputs": [
    {
     "name": "stdout",
     "output_type": "stream",
     "text": [
      "              precision    recall  f1-score   support\n",
      "\n",
      "      Edible       0.81      0.97      0.88      1272\n",
      "   Poisonous       0.96      0.76      0.84      1166\n",
      "\n",
      "    accuracy                           0.87      2438\n",
      "   macro avg       0.88      0.86      0.86      2438\n",
      "weighted avg       0.88      0.87      0.86      2438\n",
      "\n"
     ]
    }
   ],
   "source": [
    "# Resumen de las medidas para cada clasificacion\n",
    "target_names = [\"Edible\",\"Poisonous\"]\n",
    "print(classification_report(y_test, y_predict, target_names=target_names))"
   ]
  },
  {
   "cell_type": "code",
   "execution_count": 146,
   "metadata": {},
   "outputs": [
    {
     "name": "stdout",
     "output_type": "stream",
     "text": [
      "[[1232   40]\n",
      " [ 285  881]]\n"
     ]
    },
    {
     "data": {
      "text/plain": [
       "<sklearn.metrics._plot.confusion_matrix.ConfusionMatrixDisplay at 0x7f8ea7753f10>"
      ]
     },
     "execution_count": 146,
     "metadata": {},
     "output_type": "execute_result"
    },
    {
     "data": {
      "image/png": "[encoded data removed]",
      "text/plain": [
       "<Figure size 432x288 with 2 Axes>"
      ]
     },
     "metadata": {
      "needs_background": "light"
     },
     "output_type": "display_data"
    }
   ],
   "source": [
    "# Matriz de confusion para comestibles y venenosos\n",
    "print(confusion_matrix(y_test, y_predict))\n",
    "sgd = plot_confusion_matrix(clf2, X_test, y_test, cmap=plt.cm.Blues, \n",
    "                      display_labels=[\"Edible\",\"Poisonous\"])\n",
    "\n",
    "sgd.ax_.set_title(\"Stochastic Gradient Descent\")\n",
    "sgd"
   ]
  },
  {
   "cell_type": "markdown",
   "metadata": {},
   "source": [
    "En este caso es posible observar que el modelo estocastico presento fallos en la prediccion de la clase de aproximadamente el 11% de los elementos, esto puede deberse a que al ser un modelo realizado a partir de funciones matematicas este siendo influenciado por el peso de los numeros asignados."
   ]
  },
  {
   "cell_type": "markdown",
   "metadata": {},
   "source": [
    "## Decision Trees\n",
    "\n",
    "<a id='Decision Trees2'></a>"
   ]
  },
  {
   "cell_type": "code",
   "execution_count": 147,
   "metadata": {},
   "outputs": [
    {
     "data": {
      "text/plain": [
       "array([1, 0, 0, ..., 1, 1, 1])"
      ]
     },
     "execution_count": 147,
     "metadata": {},
     "output_type": "execute_result"
    }
   ],
   "source": [
    "from sklearn import tree\n",
    "# prediccion por medio del modelo Decision Trees\n",
    "clf_tree = tree.DecisionTreeClassifier()\n",
    "clf_tree = clf_tree.fit(X_train, y_train)\n",
    "y_predict = clf_tree.predict(X_test)\n",
    "y_predict"
   ]
  },
  {
   "cell_type": "code",
   "execution_count": 148,
   "metadata": {},
   "outputs": [
    {
     "name": "stdout",
     "output_type": "stream",
     "text": [
      "Accuracy: 1.0\n",
      "Precision: 1.0\n",
      "Recall: 1.0\n",
      "F-score: 1.0\n"
     ]
    }
   ],
   "source": [
    "# Imprimir las medidas que indiquen que tan bien predijo el modelo los datos\n",
    "print(\"Accuracy: {}\".format(accuracy_score(y_test, y_predict)))\n",
    "print(\"Precision: {}\".format(precision_score(y_test, y_predict, average=\"macro\")))\n",
    "print(\"Recall: {}\".format(recall_score(y_test, y_predict, average=\"macro\")))\n",
    "print(\"F-score: {}\".format(f1_score(y_test, y_predict, average=\"macro\")))"
   ]
  },
  {
   "cell_type": "code",
   "execution_count": 149,
   "metadata": {},
   "outputs": [
    {
     "name": "stdout",
     "output_type": "stream",
     "text": [
      "              precision    recall  f1-score   support\n",
      "\n",
      "      Edible       1.00      1.00      1.00      1272\n",
      "   Poisonous       1.00      1.00      1.00      1166\n",
      "\n",
      "    accuracy                           1.00      2438\n",
      "   macro avg       1.00      1.00      1.00      2438\n",
      "weighted avg       1.00      1.00      1.00      2438\n",
      "\n"
     ]
    }
   ],
   "source": [
    "# Resumen de las medidas para cada clasificacion\n",
    "target_names = [\"Edible\",\"Poisonous\"]\n",
    "print(classification_report(y_test, y_predict, target_names=target_names))"
   ]
  },
  {
   "cell_type": "code",
   "execution_count": 150,
   "metadata": {},
   "outputs": [
    {
     "name": "stdout",
     "output_type": "stream",
     "text": [
      "[[1272    0]\n",
      " [   0 1166]]\n"
     ]
    },
    {
     "data": {
      "text/plain": [
       "<sklearn.metrics._plot.confusion_matrix.ConfusionMatrixDisplay at 0x7f8e8d7c69a0>"
      ]
     },
     "execution_count": 150,
     "metadata": {},
     "output_type": "execute_result"
    },
    {
     "data": {
      "image/png": "[encoded data removed]",
      "text/plain": [
       "<Figure size 432x288 with 2 Axes>"
      ]
     },
     "metadata": {
      "needs_background": "light"
     },
     "output_type": "display_data"
    }
   ],
   "source": [
    "# Matriz de confusion para comestibles y venenosos\n",
    "print(confusion_matrix(y_test, y_predict))\n",
    "dt = plot_confusion_matrix(clf_tree, X_test, y_test, cmap=plt.cm.Blues, \n",
    "                      display_labels=[\"Edible\",\"Poisonous\"]) \n",
    "dt.ax_.set_title(\"Decision Tree\")\n",
    "dt"
   ]
  },
  {
   "cell_type": "markdown",
   "metadata": {},
   "source": [
    "Es posible observar que el modelo de arboles de decision fue capaz de predecir correctamente las clases de todos los elementos."
   ]
  },
  {
   "cell_type": "markdown",
   "metadata": {},
   "source": [
    "# One Hot Encoding\n",
    "\n",
    "<a id='One Hot Encoding'></a>"
   ]
  },
  {
   "attachments": {},
   "cell_type": "markdown",
   "metadata": {},
   "source": [
    "Aunque la codificación de etiquetas es directa, tiene la desventaja de que los algoritmos pueden malinterpretar los valores numéricos como si tuvieran algún tipo de jerarquía / orden en ellos. Este problema de ordenación se aborda en otro enfoque alternativo común llamado \"Codificación One-Hot\". En esta estrategia, cada valor de categoría se convierte en una nueva columna y se le asigna un valor de 1 o 0 (notación para verdadero / falso) a la columna.\n",
    "\n",
    "<img src=\"https://miro.medium.com/max/700/1*CK0gfoqvSPBziJcY1TQC6w.png\">"
   ]
  },
  {
   "cell_type": "markdown",
   "metadata": {},
   "source": [
    "## Recolección de datos\n",
    "\n",
    "<a id='Recolección de datos2'></a>"
   ]
  },
  {
   "cell_type": "code",
   "execution_count": 151,
   "metadata": {},
   "outputs": [
    {
     "data": {
      "text/html": [
       "<div>\n",
       "<style scoped>\n",
       "    .dataframe tbody tr th:only-of-type {\n",
       "        vertical-align: middle;\n",
       "    }\n",
       "\n",
       "    .dataframe tbody tr th {\n",
       "        vertical-align: top;\n",
       "    }\n",
       "\n",
       "    .dataframe thead th {\n",
       "        text-align: right;\n",
       "    }\n",
       "</style>\n",
       "<table border=\"1\" class=\"dataframe\">\n",
       "  <thead>\n",
       "    <tr style=\"text-align: right;\">\n",
       "      <th></th>\n",
       "      <th>class_p</th>\n",
       "      <th>cap-shape_c</th>\n",
       "      <th>cap-shape_f</th>\n",
       "      <th>cap-shape_k</th>\n",
       "      <th>cap-shape_s</th>\n",
       "      <th>cap-shape_x</th>\n",
       "      <th>cap-surface_g</th>\n",
       "      <th>cap-surface_s</th>\n",
       "      <th>cap-surface_y</th>\n",
       "      <th>cap-color_c</th>\n",
       "      <th>...</th>\n",
       "      <th>population_n</th>\n",
       "      <th>population_s</th>\n",
       "      <th>population_v</th>\n",
       "      <th>population_y</th>\n",
       "      <th>habitat_g</th>\n",
       "      <th>habitat_l</th>\n",
       "      <th>habitat_m</th>\n",
       "      <th>habitat_p</th>\n",
       "      <th>habitat_u</th>\n",
       "      <th>habitat_w</th>\n",
       "    </tr>\n",
       "  </thead>\n",
       "  <tbody>\n",
       "    <tr>\n",
       "      <th>0</th>\n",
       "      <td>1</td>\n",
       "      <td>0</td>\n",
       "      <td>0</td>\n",
       "      <td>0</td>\n",
       "      <td>0</td>\n",
       "      <td>1</td>\n",
       "      <td>0</td>\n",
       "      <td>1</td>\n",
       "      <td>0</td>\n",
       "      <td>0</td>\n",
       "      <td>...</td>\n",
       "      <td>0</td>\n",
       "      <td>1</td>\n",
       "      <td>0</td>\n",
       "      <td>0</td>\n",
       "      <td>0</td>\n",
       "      <td>0</td>\n",
       "      <td>0</td>\n",
       "      <td>0</td>\n",
       "      <td>1</td>\n",
       "      <td>0</td>\n",
       "    </tr>\n",
       "    <tr>\n",
       "      <th>1</th>\n",
       "      <td>0</td>\n",
       "      <td>0</td>\n",
       "      <td>0</td>\n",
       "      <td>0</td>\n",
       "      <td>0</td>\n",
       "      <td>1</td>\n",
       "      <td>0</td>\n",
       "      <td>1</td>\n",
       "      <td>0</td>\n",
       "      <td>0</td>\n",
       "      <td>...</td>\n",
       "      <td>1</td>\n",
       "      <td>0</td>\n",
       "      <td>0</td>\n",
       "      <td>0</td>\n",
       "      <td>1</td>\n",
       "      <td>0</td>\n",
       "      <td>0</td>\n",
       "      <td>0</td>\n",
       "      <td>0</td>\n",
       "      <td>0</td>\n",
       "    </tr>\n",
       "    <tr>\n",
       "      <th>2</th>\n",
       "      <td>0</td>\n",
       "      <td>0</td>\n",
       "      <td>0</td>\n",
       "      <td>0</td>\n",
       "      <td>0</td>\n",
       "      <td>0</td>\n",
       "      <td>0</td>\n",
       "      <td>1</td>\n",
       "      <td>0</td>\n",
       "      <td>0</td>\n",
       "      <td>...</td>\n",
       "      <td>1</td>\n",
       "      <td>0</td>\n",
       "      <td>0</td>\n",
       "      <td>0</td>\n",
       "      <td>0</td>\n",
       "      <td>0</td>\n",
       "      <td>1</td>\n",
       "      <td>0</td>\n",
       "      <td>0</td>\n",
       "      <td>0</td>\n",
       "    </tr>\n",
       "    <tr>\n",
       "      <th>3</th>\n",
       "      <td>1</td>\n",
       "      <td>0</td>\n",
       "      <td>0</td>\n",
       "      <td>0</td>\n",
       "      <td>0</td>\n",
       "      <td>1</td>\n",
       "      <td>0</td>\n",
       "      <td>0</td>\n",
       "      <td>1</td>\n",
       "      <td>0</td>\n",
       "      <td>...</td>\n",
       "      <td>0</td>\n",
       "      <td>1</td>\n",
       "      <td>0</td>\n",
       "      <td>0</td>\n",
       "      <td>0</td>\n",
       "      <td>0</td>\n",
       "      <td>0</td>\n",
       "      <td>0</td>\n",
       "      <td>1</td>\n",
       "      <td>0</td>\n",
       "    </tr>\n",
       "    <tr>\n",
       "      <th>4</th>\n",
       "      <td>0</td>\n",
       "      <td>0</td>\n",
       "      <td>0</td>\n",
       "      <td>0</td>\n",
       "      <td>0</td>\n",
       "      <td>1</td>\n",
       "      <td>0</td>\n",
       "      <td>1</td>\n",
       "      <td>0</td>\n",
       "      <td>0</td>\n",
       "      <td>...</td>\n",
       "      <td>0</td>\n",
       "      <td>0</td>\n",
       "      <td>0</td>\n",
       "      <td>0</td>\n",
       "      <td>1</td>\n",
       "      <td>0</td>\n",
       "      <td>0</td>\n",
       "      <td>0</td>\n",
       "      <td>0</td>\n",
       "      <td>0</td>\n",
       "    </tr>\n",
       "    <tr>\n",
       "      <th>...</th>\n",
       "      <td>...</td>\n",
       "      <td>...</td>\n",
       "      <td>...</td>\n",
       "      <td>...</td>\n",
       "      <td>...</td>\n",
       "      <td>...</td>\n",
       "      <td>...</td>\n",
       "      <td>...</td>\n",
       "      <td>...</td>\n",
       "      <td>...</td>\n",
       "      <td>...</td>\n",
       "      <td>...</td>\n",
       "      <td>...</td>\n",
       "      <td>...</td>\n",
       "      <td>...</td>\n",
       "      <td>...</td>\n",
       "      <td>...</td>\n",
       "      <td>...</td>\n",
       "      <td>...</td>\n",
       "      <td>...</td>\n",
       "      <td>...</td>\n",
       "    </tr>\n",
       "    <tr>\n",
       "      <th>8119</th>\n",
       "      <td>0</td>\n",
       "      <td>0</td>\n",
       "      <td>0</td>\n",
       "      <td>1</td>\n",
       "      <td>0</td>\n",
       "      <td>0</td>\n",
       "      <td>0</td>\n",
       "      <td>1</td>\n",
       "      <td>0</td>\n",
       "      <td>0</td>\n",
       "      <td>...</td>\n",
       "      <td>0</td>\n",
       "      <td>0</td>\n",
       "      <td>0</td>\n",
       "      <td>0</td>\n",
       "      <td>0</td>\n",
       "      <td>1</td>\n",
       "      <td>0</td>\n",
       "      <td>0</td>\n",
       "      <td>0</td>\n",
       "      <td>0</td>\n",
       "    </tr>\n",
       "    <tr>\n",
       "      <th>8120</th>\n",
       "      <td>0</td>\n",
       "      <td>0</td>\n",
       "      <td>0</td>\n",
       "      <td>0</td>\n",
       "      <td>0</td>\n",
       "      <td>1</td>\n",
       "      <td>0</td>\n",
       "      <td>1</td>\n",
       "      <td>0</td>\n",
       "      <td>0</td>\n",
       "      <td>...</td>\n",
       "      <td>0</td>\n",
       "      <td>0</td>\n",
       "      <td>1</td>\n",
       "      <td>0</td>\n",
       "      <td>0</td>\n",
       "      <td>1</td>\n",
       "      <td>0</td>\n",
       "      <td>0</td>\n",
       "      <td>0</td>\n",
       "      <td>0</td>\n",
       "    </tr>\n",
       "    <tr>\n",
       "      <th>8121</th>\n",
       "      <td>0</td>\n",
       "      <td>0</td>\n",
       "      <td>1</td>\n",
       "      <td>0</td>\n",
       "      <td>0</td>\n",
       "      <td>0</td>\n",
       "      <td>0</td>\n",
       "      <td>1</td>\n",
       "      <td>0</td>\n",
       "      <td>0</td>\n",
       "      <td>...</td>\n",
       "      <td>0</td>\n",
       "      <td>0</td>\n",
       "      <td>0</td>\n",
       "      <td>0</td>\n",
       "      <td>0</td>\n",
       "      <td>1</td>\n",
       "      <td>0</td>\n",
       "      <td>0</td>\n",
       "      <td>0</td>\n",
       "      <td>0</td>\n",
       "    </tr>\n",
       "    <tr>\n",
       "      <th>8122</th>\n",
       "      <td>1</td>\n",
       "      <td>0</td>\n",
       "      <td>0</td>\n",
       "      <td>1</td>\n",
       "      <td>0</td>\n",
       "      <td>0</td>\n",
       "      <td>0</td>\n",
       "      <td>0</td>\n",
       "      <td>1</td>\n",
       "      <td>0</td>\n",
       "      <td>...</td>\n",
       "      <td>0</td>\n",
       "      <td>0</td>\n",
       "      <td>1</td>\n",
       "      <td>0</td>\n",
       "      <td>0</td>\n",
       "      <td>1</td>\n",
       "      <td>0</td>\n",
       "      <td>0</td>\n",
       "      <td>0</td>\n",
       "      <td>0</td>\n",
       "    </tr>\n",
       "    <tr>\n",
       "      <th>8123</th>\n",
       "      <td>0</td>\n",
       "      <td>0</td>\n",
       "      <td>0</td>\n",
       "      <td>0</td>\n",
       "      <td>0</td>\n",
       "      <td>1</td>\n",
       "      <td>0</td>\n",
       "      <td>1</td>\n",
       "      <td>0</td>\n",
       "      <td>0</td>\n",
       "      <td>...</td>\n",
       "      <td>0</td>\n",
       "      <td>0</td>\n",
       "      <td>0</td>\n",
       "      <td>0</td>\n",
       "      <td>0</td>\n",
       "      <td>1</td>\n",
       "      <td>0</td>\n",
       "      <td>0</td>\n",
       "      <td>0</td>\n",
       "      <td>0</td>\n",
       "    </tr>\n",
       "  </tbody>\n",
       "</table>\n",
       "<p>8124 rows × 96 columns</p>\n",
       "</div>"
      ],
      "text/plain": [
       "      class_p  cap-shape_c  cap-shape_f  cap-shape_k  cap-shape_s  \\\n",
       "0           1            0            0            0            0   \n",
       "1           0            0            0            0            0   \n",
       "2           0            0            0            0            0   \n",
       "3           1            0            0            0            0   \n",
       "4           0            0            0            0            0   \n",
       "...       ...          ...          ...          ...          ...   \n",
       "8119        0            0            0            1            0   \n",
       "8120        0            0            0            0            0   \n",
       "8121        0            0            1            0            0   \n",
       "8122        1            0            0            1            0   \n",
       "8123        0            0            0            0            0   \n",
       "\n",
       "      cap-shape_x  cap-surface_g  cap-surface_s  cap-surface_y  cap-color_c  \\\n",
       "0               1              0              1              0            0   \n",
       "1               1              0              1              0            0   \n",
       "2               0              0              1              0            0   \n",
       "3               1              0              0              1            0   \n",
       "4               1              0              1              0            0   \n",
       "...           ...            ...            ...            ...          ...   \n",
       "8119            0              0              1              0            0   \n",
       "8120            1              0              1              0            0   \n",
       "8121            0              0              1              0            0   \n",
       "8122            0              0              0              1            0   \n",
       "8123            1              0              1              0            0   \n",
       "\n",
       "      ...  population_n  population_s  population_v  population_y  habitat_g  \\\n",
       "0     ...             0             1             0             0          0   \n",
       "1     ...             1             0             0             0          1   \n",
       "2     ...             1             0             0             0          0   \n",
       "3     ...             0             1             0             0          0   \n",
       "4     ...             0             0             0             0          1   \n",
       "...   ...           ...           ...           ...           ...        ...   \n",
       "8119  ...             0             0             0             0          0   \n",
       "8120  ...             0             0             1             0          0   \n",
       "8121  ...             0             0             0             0          0   \n",
       "8122  ...             0             0             1             0          0   \n",
       "8123  ...             0             0             0             0          0   \n",
       "\n",
       "      habitat_l  habitat_m  habitat_p  habitat_u  habitat_w  \n",
       "0             0          0          0          1          0  \n",
       "1             0          0          0          0          0  \n",
       "2             0          1          0          0          0  \n",
       "3             0          0          0          1          0  \n",
       "4             0          0          0          0          0  \n",
       "...         ...        ...        ...        ...        ...  \n",
       "8119          1          0          0          0          0  \n",
       "8120          1          0          0          0          0  \n",
       "8121          1          0          0          0          0  \n",
       "8122          1          0          0          0          0  \n",
       "8123          1          0          0          0          0  \n",
       "\n",
       "[8124 rows x 96 columns]"
      ]
     },
     "execution_count": 151,
     "metadata": {},
     "output_type": "execute_result"
    }
   ],
   "source": [
    "data_one = pd.read_csv('../Downloads/mushrooms.csv')\n",
    "\n",
    "data_one = pd.get_dummies(data_one, drop_first=True)\n",
    "\n",
    "X_one = data_one.drop(columns=['class_p'])\n",
    "y_one = data_one['class_p']\n",
    "\n",
    "X_trainOne, X_testOne, y_trainOne, y_testOne = train_test_split(X_one, y_one, test_size=0.3, random_state=0)\n",
    "\n",
    "data_one"
   ]
  },
  {
   "cell_type": "markdown",
   "metadata": {},
   "source": [
    "## K-Nearest Neighbor\n",
    "\n",
    "<a id='K-Nearest Neighbor3'></a>"
   ]
  },
  {
   "cell_type": "code",
   "execution_count": 202,
   "metadata": {},
   "outputs": [
    {
     "data": {
      "text/plain": [
       "array([1, 0, 0, ..., 1, 1, 1], dtype=uint8)"
      ]
     },
     "execution_count": 202,
     "metadata": {},
     "output_type": "execute_result"
    }
   ],
   "source": [
    "# Clasificación K Nearest neighbors \n",
    "k = 5\n",
    "# Definición del clasificador\n",
    "classifier = KNeighborsClassifier(n_neighbors=k)\n",
    "# Entrenamiento del clasificador con lo datos de entrenamiento y valores de clase para cada ejemplo\n",
    "classifier.fit(X_trainOne, y_trainOne)\n",
    "# Predicción con el clasificador entrenado en los datos de evaluación \n",
    "y_predict = classifier.predict(X_testOne)\n",
    "y_predict\n",
    "\n",
    "# Clasificación K Nearest neighbors \n",
    "k2 = 41\n",
    "# Definición del clasificador\n",
    "classifier2 = KNeighborsClassifier(n_neighbors=k2)\n",
    "# Entrenamiento del clasificador con lo datos de entrenamiento y valores de clase para cada ejemplo\n",
    "classifier2.fit(X_trainOne, y_trainOne)\n",
    "# Predicción con el clasificador entrenado en los datos de evaluación \n",
    "y_predict2 = classifier2.predict(X_testOne)\n",
    "y_predict2"
   ]
  },
  {
   "cell_type": "code",
   "execution_count": 199,
   "metadata": {},
   "outputs": [
    {
     "name": "stdout",
     "output_type": "stream",
     "text": [
      "Accuracy: 1.0\n",
      "Precision: 1.0\n",
      "Recall: 1.0\n",
      "F-score: 1.0\n"
     ]
    }
   ],
   "source": [
    "# Imprimir las medidas que indiquen que tan bien predijo el modelo los datos\n",
    "print(\"Accuracy: {}\".format(accuracy_score(y_testOne, y_predict)))\n",
    "print(\"Precision: {}\".format(precision_score(y_testOne, y_predict, average=\"macro\")))\n",
    "print(\"Recall: {}\".format(recall_score(y_testOne, y_predict, average=\"macro\")))\n",
    "print(\"F-score: {}\".format(f1_score(y_testOne, y_predict, average=\"macro\")))"
   ]
  },
  {
   "cell_type": "code",
   "execution_count": 200,
   "metadata": {},
   "outputs": [
    {
     "name": "stdout",
     "output_type": "stream",
     "text": [
      "              precision    recall  f1-score   support\n",
      "\n",
      "      Edible       1.00      1.00      1.00      1272\n",
      "   Poisonous       1.00      1.00      1.00      1166\n",
      "\n",
      "    accuracy                           1.00      2438\n",
      "   macro avg       1.00      1.00      1.00      2438\n",
      "weighted avg       1.00      1.00      1.00      2438\n",
      "\n"
     ]
    }
   ],
   "source": [
    "# Resumen de las medidas para cada clasificacion\n",
    "target_names = [\"Edible\",\"Poisonous\"]\n",
    "print(classification_report(y_testOne, y_predict, target_names=target_names))"
   ]
  },
  {
   "cell_type": "code",
   "execution_count": 204,
   "metadata": {},
   "outputs": [
    {
     "name": "stdout",
     "output_type": "stream",
     "text": [
      "[[1272    0]\n",
      " [   0 1166]]\n"
     ]
    },
    {
     "data": {
      "text/plain": [
       "<sklearn.metrics._plot.confusion_matrix.ConfusionMatrixDisplay at 0x7f8e8f920910>"
      ]
     },
     "execution_count": 204,
     "metadata": {},
     "output_type": "execute_result"
    },
    {
     "data": {
      "image/png": "[encoded data removed]",
      "text/plain": [
       "<Figure size 432x288 with 2 Axes>"
      ]
     },
     "metadata": {
      "needs_background": "light"
     },
     "output_type": "display_data"
    }
   ],
   "source": [
    "# Matriz de confusion para comestibles y venenosos\n",
    "print(confusion_matrix(y_testOne, y_predict))\n",
    "knn = plot_confusion_matrix(classifier, X_testOne, y_testOne, cmap=plt.cm.Blues, \n",
    "                      display_labels=[\"Edible\",\"Poisonous\"])\n",
    "knn.ax_.set_title(\"K-Nearest Neighbor k = 5\")\n",
    "knn"
   ]
  },
  {
   "cell_type": "code",
   "execution_count": 203,
   "metadata": {},
   "outputs": [
    {
     "name": "stdout",
     "output_type": "stream",
     "text": [
      "[[1272    0]\n",
      " [   2 1164]]\n"
     ]
    },
    {
     "data": {
      "text/plain": [
       "<sklearn.metrics._plot.confusion_matrix.ConfusionMatrixDisplay at 0x7f8e8f920e50>"
      ]
     },
     "execution_count": 203,
     "metadata": {},
     "output_type": "execute_result"
    },
    {
     "data": {
      "image/png": "[encoded data removed]",
      "text/plain": [
       "<Figure size 432x288 with 2 Axes>"
      ]
     },
     "metadata": {
      "needs_background": "light"
     },
     "output_type": "display_data"
    }
   ],
   "source": [
    "# Matriz de confusion para comestibles y venenosos\n",
    "print(confusion_matrix(y_testOne, y_predict2))\n",
    "knn2 = plot_confusion_matrix(classifier2, X_testOne, y_testOne, cmap=plt.cm.Blues, \n",
    "                      display_labels=[\"Edible\",\"Poisonous\"])\n",
    "knn2.ax_.set_title(\"K-Nearest Neighbor k = 41\")\n",
    "knn2"
   ]
  },
  {
   "cell_type": "markdown",
   "metadata": {},
   "source": [
    "Como podemos ver el resultado el modelo KNN con un valor de k = 5 predijo correctamente las clases para todos los elementos, sin embargo, tras probar con otros valores de k como lo son 31,41,51 y fue posible observar que presentaba una tasa de error muy pequeña menor al 1%, por lo que podriamos pensar que el asignar los datos por medio de 1 y 0 genera una mayor robustez en el modelo."
   ]
  },
  {
   "cell_type": "markdown",
   "metadata": {},
   "source": [
    "## Support Vector Matrix\n",
    "\n",
    "<a id='Support Vector Matrix3'></a>"
   ]
  },
  {
   "cell_type": "code",
   "execution_count": 157,
   "metadata": {},
   "outputs": [
    {
     "data": {
      "text/plain": [
       "array([1, 0, 0, ..., 1, 1, 1], dtype=uint8)"
      ]
     },
     "execution_count": 157,
     "metadata": {},
     "output_type": "execute_result"
    }
   ],
   "source": [
    "# Clasificación SVM\n",
    "# Definición del clasificador\n",
    "svm_classifier = SVC(kernel=\"linear\", probability=True)\n",
    "# Entrenamiento del clasificador con lo datos de entrenamiento y valores de clase para cada ejemplo\n",
    "svm_classifier.fit(X_trainOne, y_trainOne)\n",
    "# Predicción con el clasificador entrenado en los datos de evaluación \n",
    "y_predict = svm_classifier.predict(X_testOne)\n",
    "y_predict"
   ]
  },
  {
   "cell_type": "code",
   "execution_count": 158,
   "metadata": {},
   "outputs": [
    {
     "name": "stdout",
     "output_type": "stream",
     "text": [
      "Accuracy: 1.0\n",
      "Precision: 1.0\n",
      "Recall: 1.0\n",
      "F-score: 1.0\n"
     ]
    }
   ],
   "source": [
    "# Imprimir las medidas que indiquen que tan bien predijo el modelo los datos\n",
    "print(\"Accuracy: {}\".format(accuracy_score(y_testOne, y_predict)))\n",
    "print(\"Precision: {}\".format(precision_score(y_testOne, y_predict, average=\"macro\")))\n",
    "print(\"Recall: {}\".format(recall_score(y_testOne, y_predict, average=\"macro\")))\n",
    "print(\"F-score: {}\".format(f1_score(y_testOne, y_predict, average=\"macro\")))"
   ]
  },
  {
   "cell_type": "code",
   "execution_count": 159,
   "metadata": {},
   "outputs": [
    {
     "name": "stdout",
     "output_type": "stream",
     "text": [
      "              precision    recall  f1-score   support\n",
      "\n",
      "      Edible       1.00      1.00      1.00      1272\n",
      "   Poisonous       1.00      1.00      1.00      1166\n",
      "\n",
      "    accuracy                           1.00      2438\n",
      "   macro avg       1.00      1.00      1.00      2438\n",
      "weighted avg       1.00      1.00      1.00      2438\n",
      "\n"
     ]
    }
   ],
   "source": [
    "# Resumen de las medidas para cada clasificacion\n",
    "target_names = [\"Edible\",\"Poisonous\"]\n",
    "print(classification_report(y_testOne, y_predict, target_names=target_names))"
   ]
  },
  {
   "cell_type": "code",
   "execution_count": 160,
   "metadata": {},
   "outputs": [
    {
     "name": "stdout",
     "output_type": "stream",
     "text": [
      "[[1272    0]\n",
      " [   0 1166]]\n"
     ]
    },
    {
     "data": {
      "text/plain": [
       "<sklearn.metrics._plot.confusion_matrix.ConfusionMatrixDisplay at 0x7f8ea73f73a0>"
      ]
     },
     "execution_count": 160,
     "metadata": {},
     "output_type": "execute_result"
    },
    {
     "data": {
      "image/png": "[encoded data removed]",
      "text/plain": [
       "<Figure size 432x288 with 2 Axes>"
      ]
     },
     "metadata": {
      "needs_background": "light"
     },
     "output_type": "display_data"
    }
   ],
   "source": [
    "# Matriz de confusion para comestibles y venenosos\n",
    "print(confusion_matrix(y_testOne, y_predict))\n",
    "svm = plot_confusion_matrix(svm_classifier, X_testOne, y_testOne, cmap=plt.cm.Blues, \n",
    "                      display_labels=[\"Edible\",\"Poisonous\"])\n",
    "svm.ax_.set_title(\"Support Vector Machine\")\n",
    "svm"
   ]
  },
  {
   "cell_type": "code",
   "execution_count": 161,
   "metadata": {},
   "outputs": [
    {
     "data": {
      "text/plain": [
       "<AxesSubplot:xlabel='tsne_1', ylabel='tsne_2'>"
      ]
     },
     "execution_count": 161,
     "metadata": {},
     "output_type": "execute_result"
    },
    {
     "data": {
      "image/png": "[encoded data removed]",
      "text/plain": [
       "<Figure size 432x288 with 1 Axes>"
      ]
     },
     "metadata": {
      "needs_background": "light"
     },
     "output_type": "display_data"
    }
   ],
   "source": [
    "# podemos ver como se encuentran distribuidos los elementos de nuestro set de datos\n",
    "X_test_embedded = TSNE(n_components=2).fit_transform(X_testOne)\n",
    "plt.figure()\n",
    "tsne_result_df = pd.DataFrame({'tsne_1': X_test_embedded[:,0], 'tsne_2': X_test_embedded[:,1], 'label': y_test})\n",
    "sns.scatterplot(x='tsne_1', y='tsne_2', hue='label', data=tsne_result_df)"
   ]
  },
  {
   "cell_type": "markdown",
   "metadata": {},
   "source": [
    "En este caso podemos observar que para los datos modificados por hot one encoding presenta mejores resultados pra el modelo de svm, en donde se logro predecir correctamente la clase de todos los elementos. Al observar por medio de un scatter plot podemos observar que los elementos se distribuyen mejor en sus regiones correspondientes."
   ]
  },
  {
   "cell_type": "markdown",
   "metadata": {},
   "source": [
    "## Random Forest Classifier\n",
    "\n",
    "<a id='Random Forest Classifier3'></a>"
   ]
  },
  {
   "cell_type": "code",
   "execution_count": 162,
   "metadata": {},
   "outputs": [
    {
     "data": {
      "text/plain": [
       "array([1, 0, 0, ..., 1, 1, 1])"
      ]
     },
     "execution_count": 162,
     "metadata": {},
     "output_type": "execute_result"
    }
   ],
   "source": [
    "from sklearn.ensemble import RandomForestClassifier\n",
    "# prediccion por medio del modelo Random Forest Classifier\n",
    "clf = RandomForestClassifier(n_estimators=10)\n",
    "clf = clf.fit(X_trainOne, y_train)\n",
    "y_predict = clf.predict(X_testOne)\n",
    "y_predict"
   ]
  },
  {
   "cell_type": "code",
   "execution_count": 163,
   "metadata": {},
   "outputs": [
    {
     "name": "stdout",
     "output_type": "stream",
     "text": [
      "Accuracy: 1.0\n",
      "Precision: 1.0\n",
      "Recall: 1.0\n",
      "F-score: 1.0\n"
     ]
    }
   ],
   "source": [
    "# Imprimir las medidas que indiquen que tan bien predijo el modelo los datos\n",
    "print(\"Accuracy: {}\".format(accuracy_score(y_testOne, y_predict)))\n",
    "print(\"Precision: {}\".format(precision_score(y_testOne, y_predict, average=\"macro\")))\n",
    "print(\"Recall: {}\".format(recall_score(y_testOne, y_predict, average=\"macro\")))\n",
    "print(\"F-score: {}\".format(f1_score(y_testOne, y_predict, average=\"macro\")))"
   ]
  },
  {
   "cell_type": "code",
   "execution_count": 164,
   "metadata": {},
   "outputs": [
    {
     "name": "stdout",
     "output_type": "stream",
     "text": [
      "              precision    recall  f1-score   support\n",
      "\n",
      "      Edible       1.00      1.00      1.00      1272\n",
      "   Poisonous       1.00      1.00      1.00      1166\n",
      "\n",
      "    accuracy                           1.00      2438\n",
      "   macro avg       1.00      1.00      1.00      2438\n",
      "weighted avg       1.00      1.00      1.00      2438\n",
      "\n"
     ]
    }
   ],
   "source": [
    "# Resumen de las medidas para cada clasificacion\n",
    "target_names = [\"Edible\",\"Poisonous\"]\n",
    "print(classification_report(y_testOne, y_predict, target_names=target_names))"
   ]
  },
  {
   "cell_type": "code",
   "execution_count": 165,
   "metadata": {},
   "outputs": [
    {
     "name": "stdout",
     "output_type": "stream",
     "text": [
      "[[1272    0]\n",
      " [   0 1166]]\n"
     ]
    },
    {
     "data": {
      "text/plain": [
       "<sklearn.metrics._plot.confusion_matrix.ConfusionMatrixDisplay at 0x7f8ea6eb5e80>"
      ]
     },
     "execution_count": 165,
     "metadata": {},
     "output_type": "execute_result"
    },
    {
     "data": {
      "image/png": "[encoded data removed]",
      "text/plain": [
       "<Figure size 432x288 with 2 Axes>"
      ]
     },
     "metadata": {
      "needs_background": "light"
     },
     "output_type": "display_data"
    }
   ],
   "source": [
    "# Matriz de confusion para comestibles y venenosos\n",
    "print(confusion_matrix(y_testOne, y_predict))\n",
    "rfc = plot_confusion_matrix(clf, X_testOne, y_testOne, cmap=plt.cm.Blues, \n",
    "                      display_labels=[\"Edible\",\"Poisonous\"]) \n",
    "rfc.ax_.set_title(\"Random Forest Classifier\")\n",
    "rfc"
   ]
  },
  {
   "cell_type": "markdown",
   "metadata": {},
   "source": [
    "Podemos ver que el modelo de Random Forest Classifier para los valores binarios asignados fue capaz de predecir todas las clases correctamente utilizando 10 arboles."
   ]
  },
  {
   "cell_type": "markdown",
   "metadata": {},
   "source": [
    "## Stochastic Gradient Descent\n",
    "\n",
    "<a id='Stochastic Gradient Descent3'></a>"
   ]
  },
  {
   "cell_type": "code",
   "execution_count": 166,
   "metadata": {},
   "outputs": [
    {
     "name": "stderr",
     "output_type": "stream",
     "text": [
      "/Users/carlosmichelmourradiaz/opt/anaconda3/lib/python3.8/site-packages/sklearn/linear_model/_stochastic_gradient.py:570: ConvergenceWarning: Maximum number of iteration reached before convergence. Consider increasing max_iter to improve the fit.\n",
      "  warnings.warn(\"Maximum number of iteration reached before \"\n"
     ]
    },
    {
     "data": {
      "text/plain": [
       "array([1, 0, 0, ..., 1, 1, 1], dtype=uint8)"
      ]
     },
     "execution_count": 166,
     "metadata": {},
     "output_type": "execute_result"
    }
   ],
   "source": [
    "from sklearn.linear_model import SGDClassifier\n",
    "# prediccion por medio del modelo Stochastic Gradient Descent\n",
    "clf2 = SGDClassifier(loss=\"hinge\", penalty=\"l2\", max_iter=5)\n",
    "clf2 = clf2.fit(X_trainOne, y_trainOne)\n",
    "y_predict = clf2.predict(X_testOne)\n",
    "y_predict"
   ]
  },
  {
   "cell_type": "code",
   "execution_count": 167,
   "metadata": {},
   "outputs": [
    {
     "name": "stdout",
     "output_type": "stream",
     "text": [
      "Accuracy: 1.0\n",
      "Precision: 1.0\n",
      "Recall: 1.0\n",
      "F-score: 1.0\n"
     ]
    }
   ],
   "source": [
    "# Imprimir las medidas que indiquen que tan bien predijo el modelo los datos\n",
    "print(\"Accuracy: {}\".format(accuracy_score(y_testOne, y_predict)))\n",
    "print(\"Precision: {}\".format(precision_score(y_testOne, y_predict, average=\"macro\")))\n",
    "print(\"Recall: {}\".format(recall_score(y_testOne, y_predict, average=\"macro\")))\n",
    "print(\"F-score: {}\".format(f1_score(y_testOne, y_predict, average=\"macro\")))"
   ]
  },
  {
   "cell_type": "code",
   "execution_count": 168,
   "metadata": {},
   "outputs": [
    {
     "name": "stdout",
     "output_type": "stream",
     "text": [
      "              precision    recall  f1-score   support\n",
      "\n",
      "      Edible       1.00      1.00      1.00      1272\n",
      "   Poisonous       1.00      1.00      1.00      1166\n",
      "\n",
      "    accuracy                           1.00      2438\n",
      "   macro avg       1.00      1.00      1.00      2438\n",
      "weighted avg       1.00      1.00      1.00      2438\n",
      "\n"
     ]
    }
   ],
   "source": [
    "# Resumen de las medidas para cada clasificacion\n",
    "target_names = [\"Edible\",\"Poisonous\"]\n",
    "print(classification_report(y_testOne, y_predict, target_names=target_names))"
   ]
  },
  {
   "cell_type": "code",
   "execution_count": 169,
   "metadata": {},
   "outputs": [
    {
     "name": "stdout",
     "output_type": "stream",
     "text": [
      "[[1272    0]\n",
      " [   0 1166]]\n"
     ]
    },
    {
     "data": {
      "text/plain": [
       "<sklearn.metrics._plot.confusion_matrix.ConfusionMatrixDisplay at 0x7f8e8e623dc0>"
      ]
     },
     "execution_count": 169,
     "metadata": {},
     "output_type": "execute_result"
    },
    {
     "data": {
      "image/png": "[encoded data removed]",
      "text/plain": [
       "<Figure size 432x288 with 2 Axes>"
      ]
     },
     "metadata": {
      "needs_background": "light"
     },
     "output_type": "display_data"
    }
   ],
   "source": [
    "# Matriz de confusion para comestibles y venenosos\n",
    "print(confusion_matrix(y_testOne, y_predict))\n",
    "sgd = plot_confusion_matrix(clf2, X_testOne, y_testOne, cmap=plt.cm.Blues, \n",
    "                      display_labels=[\"Edible\",\"Poisonous\"])\n",
    "\n",
    "sgd.ax_.set_title(\"Stochastic Gradient Descent\")\n",
    "sgd"
   ]
  },
  {
   "cell_type": "markdown",
   "metadata": {},
   "source": [
    "El modelo de descenso de gradiente en esta numeracion binaria fue capaz de predecir la clase de todos los elementos, posblemente esto se deba a que este tipo de clasificación provoca menos ruido en una funcion matematica, que los pesos que se toman debido a los valores numericos que se dan en el label encoding."
   ]
  },
  {
   "cell_type": "markdown",
   "metadata": {},
   "source": [
    "## Decision Trees\n",
    "\n",
    "<a id='Decision Trees3'></a>"
   ]
  },
  {
   "cell_type": "code",
   "execution_count": 170,
   "metadata": {},
   "outputs": [
    {
     "data": {
      "text/plain": [
       "array([1, 0, 0, ..., 1, 1, 1], dtype=uint8)"
      ]
     },
     "execution_count": 170,
     "metadata": {},
     "output_type": "execute_result"
    }
   ],
   "source": [
    "from sklearn import tree\n",
    "# prediccion por medio del modelo Decision Trees\n",
    "clf_tree = tree.DecisionTreeClassifier()\n",
    "clf_tree = clf_tree.fit(X_trainOne, y_trainOne)\n",
    "y_predict = clf_tree.predict(X_testOne)\n",
    "y_predict"
   ]
  },
  {
   "cell_type": "code",
   "execution_count": 171,
   "metadata": {},
   "outputs": [
    {
     "name": "stdout",
     "output_type": "stream",
     "text": [
      "Accuracy: 1.0\n",
      "Precision: 1.0\n",
      "Recall: 1.0\n",
      "F-score: 1.0\n"
     ]
    }
   ],
   "source": [
    "# Imprimir las medidas que indiquen que tan bien predijo el modelo los datos\n",
    "print(\"Accuracy: {}\".format(accuracy_score(y_testOne, y_predict)))\n",
    "print(\"Precision: {}\".format(precision_score(y_testOne, y_predict, average=\"macro\")))\n",
    "print(\"Recall: {}\".format(recall_score(y_testOne, y_predict, average=\"macro\")))\n",
    "print(\"F-score: {}\".format(f1_score(y_testOne, y_predict, average=\"macro\")))"
   ]
  },
  {
   "cell_type": "code",
   "execution_count": 172,
   "metadata": {},
   "outputs": [
    {
     "name": "stdout",
     "output_type": "stream",
     "text": [
      "              precision    recall  f1-score   support\n",
      "\n",
      "      Edible       1.00      1.00      1.00      1272\n",
      "   Poisonous       1.00      1.00      1.00      1166\n",
      "\n",
      "    accuracy                           1.00      2438\n",
      "   macro avg       1.00      1.00      1.00      2438\n",
      "weighted avg       1.00      1.00      1.00      2438\n",
      "\n"
     ]
    }
   ],
   "source": [
    "# Resumen de las medidas para cada clasificacion\n",
    "target_names = [\"Edible\",\"Poisonous\"]\n",
    "print(classification_report(y_testOne, y_predict, target_names=target_names))"
   ]
  },
  {
   "cell_type": "code",
   "execution_count": 173,
   "metadata": {},
   "outputs": [
    {
     "name": "stdout",
     "output_type": "stream",
     "text": [
      "[[1272    0]\n",
      " [   0 1166]]\n"
     ]
    },
    {
     "data": {
      "text/plain": [
       "<sklearn.metrics._plot.confusion_matrix.ConfusionMatrixDisplay at 0x7f8e8d9ee3a0>"
      ]
     },
     "execution_count": 173,
     "metadata": {},
     "output_type": "execute_result"
    },
    {
     "data": {
      "image/png": "[encoded data removed]",
      "text/plain": [
       "<Figure size 432x288 with 2 Axes>"
      ]
     },
     "metadata": {
      "needs_background": "light"
     },
     "output_type": "display_data"
    }
   ],
   "source": [
    "# Matriz de confusion para comestibles y venenosos\n",
    "print(confusion_matrix(y_testOne, y_predict))\n",
    "dt = plot_confusion_matrix(clf_tree, X_testOne, y_testOne, cmap=plt.cm.Blues, \n",
    "                      display_labels=[\"Edible\",\"Poisonous\"]) \n",
    "dt.ax_.set_title(\"Decision Tree\")\n",
    "dt"
   ]
  },
  {
   "cell_type": "markdown",
   "metadata": {},
   "source": [
    "El modelo de Arboles de decisión tambien fue capaz de predecir correctamente las clases de todos los elementos. "
   ]
  },
  {
   "cell_type": "markdown",
   "metadata": {},
   "source": [
    "## Conclusiones\n",
    "\n",
    "<a id='Conclusiones'></a>\n",
    "\n",
    "Tras los analisis realizados con los algoritmos de clasificación:\n",
    "\n",
    "- K Nearest Neighbor\n",
    "- Support Vector Machine\n",
    "- Random Forest Classifier\n",
    "- Stochastic Gradient Descent\n",
    "- Decision Trees\n",
    "\n",
    "Al cambiar los atributos por valores numericos por medio de los métodos:\n",
    "\n",
    "- Label Encoding\n",
    "- One Hot Encoding\n",
    "\n",
    "Gracias a los resultados observados es posible considerar que en este caso el metodo de intercambio por valores numericos One Hot Encoding muestra tener mayor efectividad en todos los algoritmos de clasificación. De modo que fue posible observar que Label Encoding es favorecido por los modelos que se basan en agrupamiento como KNN, mientras que aquellos que se basan en regresiones matemáticas suelen fallar debido al peso que suelen tomar los atributos."
   ]
  },
  {
   "cell_type": "markdown",
   "metadata": {},
   "source": [
    "# Información Adicional del archivo de Hongos\n",
    "\n",
    "<a id='Información Adicional del archivo de Hongos'></a>"
   ]
  },
  {
   "cell_type": "markdown",
   "metadata": {},
   "source": [
    "Fung = pd.read_csv('../Downloads/mushrooms.csv')\n",
    "Fung.info()"
   ]
  },
  {
   "cell_type": "markdown",
   "metadata": {},
   "source": [
    "## Comestibles y Venenosos\n",
    "\n",
    "<a id='Comestibles y Venenosos'></a>"
   ]
  },
  {
   "cell_type": "code",
   "execution_count": 231,
   "metadata": {},
   "outputs": [
    {
     "data": {
      "text/html": [
       "<div>\n",
       "<style scoped>\n",
       "    .dataframe tbody tr th:only-of-type {\n",
       "        vertical-align: middle;\n",
       "    }\n",
       "\n",
       "    .dataframe tbody tr th {\n",
       "        vertical-align: top;\n",
       "    }\n",
       "\n",
       "    .dataframe thead th {\n",
       "        text-align: right;\n",
       "    }\n",
       "</style>\n",
       "<table border=\"1\" class=\"dataframe\">\n",
       "  <thead>\n",
       "    <tr style=\"text-align: right;\">\n",
       "      <th></th>\n",
       "      <th>class</th>\n",
       "    </tr>\n",
       "  </thead>\n",
       "  <tbody>\n",
       "    <tr>\n",
       "      <th>e</th>\n",
       "      <td>4208</td>\n",
       "    </tr>\n",
       "    <tr>\n",
       "      <th>p</th>\n",
       "      <td>3916</td>\n",
       "    </tr>\n",
       "  </tbody>\n",
       "</table>\n",
       "</div>"
      ],
      "text/plain": [
       "   class\n",
       "e   4208\n",
       "p   3916"
      ]
     },
     "execution_count": 231,
     "metadata": {},
     "output_type": "execute_result"
    }
   ],
   "source": [
    "Fung['class'].value_counts().to_frame()"
   ]
  },
  {
   "cell_type": "code",
   "execution_count": 232,
   "metadata": {},
   "outputs": [
    {
     "data": {
      "image/png": "[encoded data removed]",
      "text/plain": [
       "<Figure size 720x360 with 1 Axes>"
      ]
     },
     "metadata": {
      "needs_background": "light"
     },
     "output_type": "display_data"
    }
   ],
   "source": [
    "plt.figure(figsize=(10,5))\n",
    "plt.title('Mushrooms Poisonous v/s Edible', fontsize=14)\n",
    "sns.countplot(x=\"class\", data=Fung, palette=('#9b111e','#50c878'))\n",
    "plt.xlabel(\"Mushroom Type\", fontsize=12)\n",
    "plt.ylabel(\"Count\", fontsize=12)\n",
    "plt.xticks(fontsize=12)\n",
    "plt.yticks(fontsize=12)\n",
    "plt.show()"
   ]
  },
  {
   "cell_type": "markdown",
   "metadata": {},
   "source": [
    "## Color de los hongos\n",
    "\n",
    "<a id='Color de los hongos'></a>"
   ]
  },
  {
   "cell_type": "code",
   "execution_count": 233,
   "metadata": {},
   "outputs": [
    {
     "data": {
      "text/html": [
       "<div>\n",
       "<style scoped>\n",
       "    .dataframe tbody tr th:only-of-type {\n",
       "        vertical-align: middle;\n",
       "    }\n",
       "\n",
       "    .dataframe tbody tr th {\n",
       "        vertical-align: top;\n",
       "    }\n",
       "\n",
       "    .dataframe thead th {\n",
       "        text-align: right;\n",
       "    }\n",
       "</style>\n",
       "<table border=\"1\" class=\"dataframe\">\n",
       "  <thead>\n",
       "    <tr style=\"text-align: right;\">\n",
       "      <th></th>\n",
       "      <th></th>\n",
       "      <th>class</th>\n",
       "    </tr>\n",
       "    <tr>\n",
       "      <th>cap-color</th>\n",
       "      <th>class</th>\n",
       "      <th></th>\n",
       "    </tr>\n",
       "  </thead>\n",
       "  <tbody>\n",
       "    <tr>\n",
       "      <th rowspan=\"2\" valign=\"top\">b</th>\n",
       "      <th>p</th>\n",
       "      <td>120</td>\n",
       "    </tr>\n",
       "    <tr>\n",
       "      <th>e</th>\n",
       "      <td>48</td>\n",
       "    </tr>\n",
       "    <tr>\n",
       "      <th rowspan=\"2\" valign=\"top\">c</th>\n",
       "      <th>e</th>\n",
       "      <td>32</td>\n",
       "    </tr>\n",
       "    <tr>\n",
       "      <th>p</th>\n",
       "      <td>12</td>\n",
       "    </tr>\n",
       "    <tr>\n",
       "      <th rowspan=\"2\" valign=\"top\">e</th>\n",
       "      <th>p</th>\n",
       "      <td>876</td>\n",
       "    </tr>\n",
       "    <tr>\n",
       "      <th>e</th>\n",
       "      <td>624</td>\n",
       "    </tr>\n",
       "    <tr>\n",
       "      <th rowspan=\"2\" valign=\"top\">g</th>\n",
       "      <th>e</th>\n",
       "      <td>1032</td>\n",
       "    </tr>\n",
       "    <tr>\n",
       "      <th>p</th>\n",
       "      <td>808</td>\n",
       "    </tr>\n",
       "    <tr>\n",
       "      <th rowspan=\"2\" valign=\"top\">n</th>\n",
       "      <th>e</th>\n",
       "      <td>1264</td>\n",
       "    </tr>\n",
       "    <tr>\n",
       "      <th>p</th>\n",
       "      <td>1020</td>\n",
       "    </tr>\n",
       "    <tr>\n",
       "      <th rowspan=\"2\" valign=\"top\">p</th>\n",
       "      <th>p</th>\n",
       "      <td>88</td>\n",
       "    </tr>\n",
       "    <tr>\n",
       "      <th>e</th>\n",
       "      <td>56</td>\n",
       "    </tr>\n",
       "    <tr>\n",
       "      <th>r</th>\n",
       "      <th>e</th>\n",
       "      <td>16</td>\n",
       "    </tr>\n",
       "    <tr>\n",
       "      <th>u</th>\n",
       "      <th>e</th>\n",
       "      <td>16</td>\n",
       "    </tr>\n",
       "    <tr>\n",
       "      <th rowspan=\"2\" valign=\"top\">w</th>\n",
       "      <th>e</th>\n",
       "      <td>720</td>\n",
       "    </tr>\n",
       "    <tr>\n",
       "      <th>p</th>\n",
       "      <td>320</td>\n",
       "    </tr>\n",
       "    <tr>\n",
       "      <th rowspan=\"2\" valign=\"top\">y</th>\n",
       "      <th>p</th>\n",
       "      <td>672</td>\n",
       "    </tr>\n",
       "    <tr>\n",
       "      <th>e</th>\n",
       "      <td>400</td>\n",
       "    </tr>\n",
       "  </tbody>\n",
       "</table>\n",
       "</div>"
      ],
      "text/plain": [
       "                 class\n",
       "cap-color class       \n",
       "b         p        120\n",
       "          e         48\n",
       "c         e         32\n",
       "          p         12\n",
       "e         p        876\n",
       "          e        624\n",
       "g         e       1032\n",
       "          p        808\n",
       "n         e       1264\n",
       "          p       1020\n",
       "p         p         88\n",
       "          e         56\n",
       "r         e         16\n",
       "u         e         16\n",
       "w         e        720\n",
       "          p        320\n",
       "y         p        672\n",
       "          e        400"
      ]
     },
     "execution_count": 233,
     "metadata": {},
     "output_type": "execute_result"
    }
   ],
   "source": [
    "Fung.groupby(['cap-color'])['class'].value_counts().to_frame()"
   ]
  },
  {
   "cell_type": "code",
   "execution_count": 234,
   "metadata": {},
   "outputs": [
    {
     "name": "stderr",
     "output_type": "stream",
     "text": [
      "/Users/carlosmichelmourradiaz/opt/anaconda3/lib/python3.8/site-packages/seaborn/_decorators.py:36: FutureWarning: Pass the following variable as a keyword arg: x. From version 0.12, the only valid positional argument will be `data`, and passing other arguments without an explicit keyword will result in an error or misinterpretation.\n",
      "  warnings.warn(\n"
     ]
    },
    {
     "data": {
      "image/png": "[encoded data removed]",
      "text/plain": [
       "<Figure size 864x360 with 2 Axes>"
      ]
     },
     "metadata": {
      "needs_background": "light"
     },
     "output_type": "display_data"
    }
   ],
   "source": [
    "fig, axarr = plt.subplots(1, 2, figsize=(12,5))\n",
    "a = sns.countplot(Fung['cap-color'], ax=axarr[0], order=Fung['cap-color'].value_counts().index, palette=\"magma\").set_title('Cap Color Distribution')\n",
    "axarr[1].set_title('Poisonous & Edible Mushroom Based On Cap Color')\n",
    "b = sns.countplot(x=\"cap-color\", data=Fung, hue=\"class\", order=Fung['cap-color'].value_counts().index, palette=('#9b111e','#50c878'), ax=axarr[1]).set_ylabel('Count')"
   ]
  },
  {
   "cell_type": "markdown",
   "metadata": {},
   "source": [
    "## Olor de los hongos\n",
    "\n",
    "<a id='Olor de los hongos'></a>"
   ]
  },
  {
   "cell_type": "code",
   "execution_count": 235,
   "metadata": {},
   "outputs": [
    {
     "data": {
      "text/html": [
       "<div>\n",
       "<style scoped>\n",
       "    .dataframe tbody tr th:only-of-type {\n",
       "        vertical-align: middle;\n",
       "    }\n",
       "\n",
       "    .dataframe tbody tr th {\n",
       "        vertical-align: top;\n",
       "    }\n",
       "\n",
       "    .dataframe thead th {\n",
       "        text-align: right;\n",
       "    }\n",
       "</style>\n",
       "<table border=\"1\" class=\"dataframe\">\n",
       "  <thead>\n",
       "    <tr style=\"text-align: right;\">\n",
       "      <th></th>\n",
       "      <th></th>\n",
       "      <th>class</th>\n",
       "    </tr>\n",
       "    <tr>\n",
       "      <th>odor</th>\n",
       "      <th>class</th>\n",
       "      <th></th>\n",
       "    </tr>\n",
       "  </thead>\n",
       "  <tbody>\n",
       "    <tr>\n",
       "      <th>a</th>\n",
       "      <th>e</th>\n",
       "      <td>400</td>\n",
       "    </tr>\n",
       "    <tr>\n",
       "      <th>c</th>\n",
       "      <th>p</th>\n",
       "      <td>192</td>\n",
       "    </tr>\n",
       "    <tr>\n",
       "      <th>f</th>\n",
       "      <th>p</th>\n",
       "      <td>2160</td>\n",
       "    </tr>\n",
       "    <tr>\n",
       "      <th>l</th>\n",
       "      <th>e</th>\n",
       "      <td>400</td>\n",
       "    </tr>\n",
       "    <tr>\n",
       "      <th>m</th>\n",
       "      <th>p</th>\n",
       "      <td>36</td>\n",
       "    </tr>\n",
       "    <tr>\n",
       "      <th rowspan=\"2\" valign=\"top\">n</th>\n",
       "      <th>e</th>\n",
       "      <td>3408</td>\n",
       "    </tr>\n",
       "    <tr>\n",
       "      <th>p</th>\n",
       "      <td>120</td>\n",
       "    </tr>\n",
       "    <tr>\n",
       "      <th>p</th>\n",
       "      <th>p</th>\n",
       "      <td>256</td>\n",
       "    </tr>\n",
       "    <tr>\n",
       "      <th>s</th>\n",
       "      <th>p</th>\n",
       "      <td>576</td>\n",
       "    </tr>\n",
       "    <tr>\n",
       "      <th>y</th>\n",
       "      <th>p</th>\n",
       "      <td>576</td>\n",
       "    </tr>\n",
       "  </tbody>\n",
       "</table>\n",
       "</div>"
      ],
      "text/plain": [
       "            class\n",
       "odor class       \n",
       "a    e        400\n",
       "c    p        192\n",
       "f    p       2160\n",
       "l    e        400\n",
       "m    p         36\n",
       "n    e       3408\n",
       "     p        120\n",
       "p    p        256\n",
       "s    p        576\n",
       "y    p        576"
      ]
     },
     "execution_count": 235,
     "metadata": {},
     "output_type": "execute_result"
    }
   ],
   "source": [
    "Fung.groupby(['odor'])['class'].value_counts().to_frame()"
   ]
  },
  {
   "cell_type": "code",
   "execution_count": 236,
   "metadata": {},
   "outputs": [
    {
     "name": "stderr",
     "output_type": "stream",
     "text": [
      "/Users/carlosmichelmourradiaz/opt/anaconda3/lib/python3.8/site-packages/seaborn/_decorators.py:36: FutureWarning: Pass the following variable as a keyword arg: x. From version 0.12, the only valid positional argument will be `data`, and passing other arguments without an explicit keyword will result in an error or misinterpretation.\n",
      "  warnings.warn(\n"
     ]
    },
    {
     "data": {
      "image/png": "[encoded data removed]",
      "text/plain": [
       "<Figure size 864x360 with 2 Axes>"
      ]
     },
     "metadata": {
      "needs_background": "light"
     },
     "output_type": "display_data"
    }
   ],
   "source": [
    "fig, axarr = plt.subplots(1, 2, figsize=(12,5))\n",
    "a = sns.countplot(Fung['odor'], ax=axarr[0], order=Fung['odor'].value_counts().index, palette=\"magma\").set_title('Odor Distribution')\n",
    "axarr[1].set_title('Poisonous & Edible Mushroom Based On Odor')\n",
    "b = sns.countplot(x=\"odor\", data=Fung, hue=\"class\", order=Fung['odor'].value_counts().index, palette=('#9b111e','#50c878'), ax=axarr[1]).set_ylabel('Count')"
   ]
  },
  {
   "cell_type": "markdown",
   "metadata": {},
   "source": [
    "## Tipo de superficie\n",
    "\n",
    "<a id='Tipo de superficie'></a>"
   ]
  },
  {
   "cell_type": "code",
   "execution_count": 237,
   "metadata": {},
   "outputs": [
    {
     "data": {
      "text/html": [
       "<div>\n",
       "<style scoped>\n",
       "    .dataframe tbody tr th:only-of-type {\n",
       "        vertical-align: middle;\n",
       "    }\n",
       "\n",
       "    .dataframe tbody tr th {\n",
       "        vertical-align: top;\n",
       "    }\n",
       "\n",
       "    .dataframe thead th {\n",
       "        text-align: right;\n",
       "    }\n",
       "</style>\n",
       "<table border=\"1\" class=\"dataframe\">\n",
       "  <thead>\n",
       "    <tr style=\"text-align: right;\">\n",
       "      <th></th>\n",
       "      <th></th>\n",
       "      <th>class</th>\n",
       "    </tr>\n",
       "    <tr>\n",
       "      <th>cap-surface</th>\n",
       "      <th>class</th>\n",
       "      <th></th>\n",
       "    </tr>\n",
       "  </thead>\n",
       "  <tbody>\n",
       "    <tr>\n",
       "      <th rowspan=\"2\" valign=\"top\">f</th>\n",
       "      <th>e</th>\n",
       "      <td>1560</td>\n",
       "    </tr>\n",
       "    <tr>\n",
       "      <th>p</th>\n",
       "      <td>760</td>\n",
       "    </tr>\n",
       "    <tr>\n",
       "      <th>g</th>\n",
       "      <th>p</th>\n",
       "      <td>4</td>\n",
       "    </tr>\n",
       "    <tr>\n",
       "      <th rowspan=\"2\" valign=\"top\">s</th>\n",
       "      <th>p</th>\n",
       "      <td>1412</td>\n",
       "    </tr>\n",
       "    <tr>\n",
       "      <th>e</th>\n",
       "      <td>1144</td>\n",
       "    </tr>\n",
       "    <tr>\n",
       "      <th rowspan=\"2\" valign=\"top\">y</th>\n",
       "      <th>p</th>\n",
       "      <td>1740</td>\n",
       "    </tr>\n",
       "    <tr>\n",
       "      <th>e</th>\n",
       "      <td>1504</td>\n",
       "    </tr>\n",
       "  </tbody>\n",
       "</table>\n",
       "</div>"
      ],
      "text/plain": [
       "                   class\n",
       "cap-surface class       \n",
       "f           e       1560\n",
       "            p        760\n",
       "g           p          4\n",
       "s           p       1412\n",
       "            e       1144\n",
       "y           p       1740\n",
       "            e       1504"
      ]
     },
     "execution_count": 237,
     "metadata": {},
     "output_type": "execute_result"
    }
   ],
   "source": [
    "Fung.groupby(['cap-surface'])['class'].value_counts().to_frame()"
   ]
  },
  {
   "cell_type": "code",
   "execution_count": 238,
   "metadata": {},
   "outputs": [
    {
     "name": "stderr",
     "output_type": "stream",
     "text": [
      "/Users/carlosmichelmourradiaz/opt/anaconda3/lib/python3.8/site-packages/seaborn/_decorators.py:36: FutureWarning: Pass the following variable as a keyword arg: x. From version 0.12, the only valid positional argument will be `data`, and passing other arguments without an explicit keyword will result in an error or misinterpretation.\n",
      "  warnings.warn(\n"
     ]
    },
    {
     "data": {
      "image/png": "[encoded data removed]",
      "text/plain": [
       "<Figure size 864x360 with 2 Axes>"
      ]
     },
     "metadata": {
      "needs_background": "light"
     },
     "output_type": "display_data"
    }
   ],
   "source": [
    "fig, axarr = plt.subplots(1, 2, figsize=(12,5))\n",
    "a = sns.countplot(Fung['cap-surface'], ax=axarr[0], order=Fung['cap-surface'].value_counts().index, palette=\"magma\").set_title('Cap Surface Distribution')\n",
    "axarr[1].set_title('Poisonous & Edible Mushroom Based On Cap Surface')\n",
    "b = sns.countplot(x=\"cap-surface\", data=Fung, hue=\"class\", order=Fung['cap-surface'].value_counts().index, palette=('#9b111e','#50c878'), ax=axarr[1]).set_ylabel('Count')"
   ]
  },
  {
   "cell_type": "markdown",
   "metadata": {},
   "source": [
    "## Mas Información adicional\n",
    "\n",
    "<a id='Mas Información adicional'></a>\n",
    "\n",
    "Si se desea observar mas información del archivo de los hongos se puede visitar el siguiente link en donde se visualizan graficamente los otros 18 atributos que se encuentran en el archivo.\n",
    "\n",
    "- https://www.kaggle.com/sunaysawant/mushroom-classification-random-forest-100"
   ]
  },
  {
   "cell_type": "code",
   "execution_count": null,
   "metadata": {},
   "outputs": [],
   "source": []
  }
 ],
 "metadata": {
  "kernelspec": {
   "display_name": "Python 3",
   "language": "python",
   "name": "python3"
  },
  "language_info": {
   "codemirror_mode": {
    "name": "ipython",
    "version": 3
   },
   "file_extension": ".py",
   "mimetype": "text/x-python",
   "name": "python",
   "nbconvert_exporter": "python",
   "pygments_lexer": "ipython3",
   "version": "3.8.3"
  }
 },
 "nbformat": 4,
 "nbformat_minor": 4
}
